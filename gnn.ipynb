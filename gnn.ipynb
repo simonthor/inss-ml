{
 "cells": [
  {
   "cell_type": "code",
   "execution_count": 1,
   "id": "d4642438",
   "metadata": {},
   "outputs": [],
   "source": [
    "import h5py\n",
    "import numpy as np\n",
    "import matplotlib.pyplot as plt\n",
    "from tqdm import tqdm\n",
    "import pickle\n",
    "\n",
    "import torch\n",
    "from torch import nn\n",
    "from sklearn.metrics import f1_score\n",
    "\n",
    "import torch\n",
    "import torch.nn as nn\n",
    "import torch.nn.functional as F\n",
    "\n",
    "from torch_geometric.data import Data\n",
    "from torch_geometric.loader import DataLoader\n",
    "from torch_geometric.nn import GCNConv\n",
    "from torch_geometric.nn import radius_graph"
   ]
  },
  {
   "cell_type": "code",
   "execution_count": 2,
   "id": "87659359",
   "metadata": {},
   "outputs": [
    {
     "name": "stdout",
     "output_type": "stream",
     "text": [
      "cuda\n"
     ]
    }
   ],
   "source": [
    "device = torch.device(\"cuda\" if torch.cuda.is_available() else \"cpu\")\n",
    "print(device)"
   ]
  },
  {
   "cell_type": "code",
   "execution_count": 3,
   "id": "1abdf66f",
   "metadata": {},
   "outputs": [],
   "source": [
    "with h5py.File('data/train_xyze_1e4.h5', 'r') as f:\n",
    "    # Access the dataset\n",
    "    label_events = f['data']\n",
    "    data = []\n",
    "    for i, event in enumerate(label_events):\n",
    "        pts = f['data'][i].reshape(-1,4)\n",
    "        data.append(pts)\n",
    "    \n",
    "#     n_signal_events = 0\n",
    "    \n",
    "#     n_michel_voxels = np.zeros(len(label_events))\n",
    "\n",
    "#     # Iterate and print each event (which is a variable-length array)\n",
    "#     for i, event in enumerate(label_events):\n",
    "#         print(f\"Event {i}: {event} (length = {len(event)})\")\n",
    "#         n_signal_events += np.any(event == 2)\n",
    "#         n_michel_voxels[i] = np.sum(event == 2)\n",
    "\n",
    "# # Corrected the misplaced parenthesis in the print statement\n",
    "# print(\"Fraction of events with Michel electrons:\", (n_signal_events / len(label_events)) * 100, \"%\")"
   ]
  },
  {
   "cell_type": "code",
   "execution_count": 4,
   "id": "26a2331c",
   "metadata": {},
   "outputs": [],
   "source": [
    "# Open the labels file\n",
    "with h5py.File('data/train_label_1e4.h5', 'r') as f:\n",
    "    # Access the dataset\n",
    "    label_events = f['labels']\n",
    "    \n",
    "    labels = []\n",
    "\n",
    "    for i, event in enumerate(label_events):\n",
    "        labels.append(event)"
   ]
  },
  {
   "cell_type": "code",
   "execution_count": 5,
   "id": "8ba34847",
   "metadata": {},
   "outputs": [],
   "source": [
    "# Define the training truth labels\n",
    "# 2 is the label for Michel electrons\n",
    "truth = [(event_labels == 2).astype(np.int32) for event_labels in labels]\n",
    "# val_truth = torch.tensor([x for x_event in val_truth for x in x_event]).to(device)"
   ]
  },
  {
   "cell_type": "code",
   "execution_count": 6,
   "id": "48dbf1ac",
   "metadata": {},
   "outputs": [
    {
     "name": "stderr",
     "output_type": "stream",
     "text": [
      "100%|██████████| 10000/10000 [01:54<00:00, 87.26it/s]  \n"
     ]
    }
   ],
   "source": [
    "# Input: sparse tensor with coordinates and features\n",
    "# coordinates: Nx4 tensor (batch_idx, x, y, z)\n",
    "# features: Nx1 tensor (voxel values)\n",
    "# Iterate over the events and create sparse tensors\n",
    "# Example input data\n",
    "\n",
    "train_data = []\n",
    "val_data = []\n",
    "test_data = []\n",
    "\n",
    "# Iterate over all the events and create sparse tensors that are then merged\n",
    "# For each input_coords, add another column for the batch index, which is just the index of the event\n",
    "for i, (event_coords, input_labels) in enumerate(zip(tqdm(data), truth)):\n",
    "    if i < 5000:\n",
    "        continue\n",
    "    \n",
    "    # For now, only use parts of the dataset to save memory\n",
    "    # if i >= 5000:\n",
    "    #     break\n",
    "    \n",
    "    # Use the first three columns as coordinates\n",
    "    input_coords = torch.tensor(event_coords[:, :3], dtype=torch.int32)  \n",
    "    # input_coords = torch.cat((torch.full((input_coords.shape[0], 1), i, dtype=torch.int32), input_coords), dim=1)  # Add batch index\n",
    "    # Use the fourth column as features\n",
    "    input_features = torch.tensor(event_coords[:, 3], dtype=torch.float32).unsqueeze(1)\n",
    "    \n",
    "    edge_index = radius_graph(input_coords, r=3.0, loop=False)\n",
    "    \n",
    "    event_data = Data(\n",
    "        x=input_features,\n",
    "        edge_index=edge_index,\n",
    "        y=torch.tensor(input_labels, dtype=torch.float32),\n",
    "        pos=input_coords,\n",
    "    )\n",
    "\n",
    "    # if i < 500:\n",
    "    #     val_data.append(event_data)\n",
    "    #     continue\n",
    "    # if i < 1000:\n",
    "    #     test_data.append(event_data)\n",
    "    #     continue\n",
    "\n",
    "    train_data.append(event_data)"
   ]
  },
  {
   "cell_type": "code",
   "execution_count": 7,
   "id": "febf48c3",
   "metadata": {},
   "outputs": [],
   "source": [
    "with open('data/gnn_train_data_1.pkl', 'wb') as f:\n",
    "    pickle.dump(train_data, f)"
   ]
  },
  {
   "cell_type": "code",
   "execution_count": 8,
   "id": "f1432b0c",
   "metadata": {},
   "outputs": [],
   "source": [
    "with open('data/gnn_val_data.pkl', 'wb') as f:\n",
    "    pickle.dump(val_data, f)"
   ]
  },
  {
   "cell_type": "code",
   "execution_count": 9,
   "id": "09543741",
   "metadata": {},
   "outputs": [],
   "source": [
    "with open('data/gnn_test_data.pkl', 'wb') as f:\n",
    "    pickle.dump(test_data, f)"
   ]
  },
  {
   "cell_type": "code",
   "execution_count": 15,
   "id": "da8a36a6",
   "metadata": {},
   "outputs": [
    {
     "data": {
      "text/plain": [
       "(4000, 500)"
      ]
     },
     "execution_count": 15,
     "metadata": {},
     "output_type": "execute_result"
    }
   ],
   "source": [
    "with open('data/gnn_train_data.pkl', 'rb') as f:\n",
    "    train_data = pickle.load(f)\n",
    "# with open('data/gnn_train_data_1.pkl', 'rb') as f:\n",
    "#     train_data1 = pickle.load(f)\n",
    "with open('data/gnn_val_data.pkl', 'rb') as f:\n",
    "    val_data = pickle.load(f)\n",
    "# with open('data/gnn_test_data.pkl', 'rb') as f:\n",
    "#     test_data = pickle.load(f)\n",
    "\n",
    "len(train_data), len(val_data)#, len(test_data)"
   ]
  },
  {
   "cell_type": "code",
   "execution_count": 16,
   "id": "9c052abe",
   "metadata": {},
   "outputs": [],
   "source": [
    "train_loader = DataLoader(train_data, batch_size=32, shuffle=True)\n",
    "val_loader = DataLoader(val_data, batch_size=32, shuffle=False)"
   ]
  },
  {
   "cell_type": "code",
   "execution_count": null,
   "id": "6727489e",
   "metadata": {},
   "outputs": [],
   "source": [
    "train_n_nodes = sum(len(d.x) for d in train_loader)\n",
    "val_n_nodes = sum(len(d.x) for d in val_loader)\n",
    "print(f\"Train nodes: {train_n_nodes}, Val nodes: {val_n_nodes}\")"
   ]
  },
  {
   "cell_type": "code",
   "execution_count": 18,
   "id": "b749a198",
   "metadata": {},
   "outputs": [],
   "source": [
    "class GNN(nn.Module):\n",
    "    def __init__(self, input_dim, hidden_dim, output_dim=1):\n",
    "        super(GNN, self).__init__()\n",
    "        self.conv1 = GCNConv(input_dim, hidden_dim)\n",
    "        self.conv2 = GCNConv(hidden_dim, output_dim)\n",
    "\n",
    "    def forward(self, data):\n",
    "        x, edge_index = data.x, data.edge_index\n",
    "        x = self.conv1(x, edge_index)\n",
    "        x = F.relu(x)\n",
    "        x = F.dropout(x, training=self.training)\n",
    "        x = self.conv2(x, edge_index)\n",
    "        return x"
   ]
  },
  {
   "cell_type": "code",
   "execution_count": null,
   "id": "93341b60",
   "metadata": {},
   "outputs": [
    {
     "name": "stderr",
     "output_type": "stream",
     "text": [
      "100%|██████████| 125/125 [00:28<00:00,  4.35it/s]\n"
     ]
    },
    {
     "name": "stdout",
     "output_type": "stream",
     "text": [
      "Epoch 1, Train Loss: 0.0604, Val Loss: 0.0000, Val F1: 0.0000\n"
     ]
    },
    {
     "name": "stderr",
     "output_type": "stream",
     "text": [
      "100%|██████████| 125/125 [00:29<00:00,  4.31it/s]\n"
     ]
    },
    {
     "name": "stdout",
     "output_type": "stream",
     "text": [
      "Epoch 2, Train Loss: 0.0506, Val Loss: 0.0000, Val F1: 0.0000\n"
     ]
    },
    {
     "name": "stderr",
     "output_type": "stream",
     "text": [
      "100%|██████████| 125/125 [00:29<00:00,  4.24it/s]\n"
     ]
    },
    {
     "name": "stdout",
     "output_type": "stream",
     "text": [
      "Epoch 3, Train Loss: 0.0501, Val Loss: 0.0000, Val F1: 0.0000\n"
     ]
    },
    {
     "name": "stderr",
     "output_type": "stream",
     "text": [
      " 27%|██▋       | 34/125 [00:08<00:22,  4.13it/s]\n"
     ]
    }
   ],
   "source": [
    "# Initialize model\n",
    "model = GNN(input_dim=1, hidden_dim=4, output_dim=1)\n",
    "optimizer = torch.optim.Adam(model.parameters(), lr=0.01, weight_decay=5e-4)\n",
    "\n",
    "train_loss_list = []\n",
    "val_loss_list = []\n",
    "\n",
    "# Training loop with validation\n",
    "best_val_f1 = 0.0\n",
    "for epoch in range(5):\n",
    "    # Training\n",
    "    model.train()\n",
    "    train_loss = 0.0\n",
    "    for batch in tqdm(train_loader):\n",
    "        optimizer.zero_grad()\n",
    "        out = model(batch)\n",
    "        weight = batch.y.unsqueeze(1) + 0.1\n",
    "        loss = F.binary_cross_entropy_with_logits(out, batch.y.unsqueeze(1), reduction=\"none\")\n",
    "        loss = (loss * weight).sum()\n",
    "        loss.backward()\n",
    "        optimizer.step()\n",
    "        train_loss += loss.item()\n",
    "\n",
    "    # Divide by the total number of nodes in all batches\n",
    "    train_loss /= train_n_nodes\n",
    "    \n",
    "    train_loss_list.append(train_loss)\n",
    "\n",
    "    # Validation\n",
    "    model.eval()\n",
    "    val_loss = 0.0\n",
    "    preds = []\n",
    "\n",
    "    with torch.no_grad():\n",
    "        for batch in val_loader:\n",
    "            weight = batch.y.unsqueeze(1) + 0.1\n",
    "            out = model(batch)\n",
    "            val_loss = F.binary_cross_entropy_with_logits(out, batch.y.unsqueeze(1), reduction=\"none\")\n",
    "            val_loss = (loss * weight).sum().item()\n",
    "            preds.append(out)\n",
    "\n",
    "    val_loss /= val_n_nodes\n",
    "    val_loss_list.append(val_loss)\n",
    "    \n",
    "    val_f1 = f1_score(\n",
    "        torch.cat([batch.y for batch in val_loader]).cpu().numpy(),\n",
    "        torch.cat([F.sigmoid(batch) > 0.5 for batch in preds]).squeeze().cpu().numpy(),\n",
    "        # average='macro'\n",
    "    )\n",
    "\n",
    "    print(f\"Epoch {epoch+1}, Train Loss: {train_loss:.4f}, \"\n",
    "          f\"Val Loss: {val_loss:.4f}, Val F1: {val_f1:.4f}\")\n",
    "\n",
    "    torch.save(model.state_dict(), f\"model_epoch_{epoch+1}.pt\")\n",
    "    \n",
    "    # Save best model\n",
    "    # if val_f1 > best_val_f1:\n",
    "    #     best_val_f1 = val_f1\n",
    "    #     torch.save(model.state_dict(), \"best_model.pt\")"
   ]
  },
  {
   "cell_type": "code",
   "execution_count": 23,
   "id": "5cf466e2",
   "metadata": {},
   "outputs": [
    {
     "data": {
      "text/plain": [
       "tensor([[0.2330],\n",
       "        [0.2416],\n",
       "        [0.2407],\n",
       "        ...,\n",
       "        [0.2259],\n",
       "        [0.2063],\n",
       "        [0.2208]])"
      ]
     },
     "execution_count": 23,
     "metadata": {},
     "output_type": "execute_result"
    }
   ],
   "source": [
    "F.binary_cross_entropy_with_logits(out, batch.y.unsqueeze(1), reduction=\"none\")"
   ]
  },
  {
   "cell_type": "code",
   "execution_count": 11,
   "id": "ac67d628",
   "metadata": {},
   "outputs": [
    {
     "data": {
      "text/plain": [
       "(0.0, 0.1)"
      ]
     },
     "execution_count": 11,
     "metadata": {},
     "output_type": "execute_result"
    },
    {
     "data": {
      "image/png": "[encoded data removed]",
      "text/plain": [
       "<Figure size 640x480 with 1 Axes>"
      ]
     },
     "metadata": {},
     "output_type": "display_data"
    }
   ],
   "source": [
    "# plot the distribution of predictions\n",
    "plt.hist(torch.cat([F.sigmoid(batch) for batch in preds]).squeeze().cpu().numpy(), density=True, bins=np.linspace(0, 0.1, 50), alpha=0.5, label=\"All Predictions\")\n",
    "plt.xlabel('Predicted Probability')\n",
    "plt.ylabel('Frequency')\n",
    "plt.title('Distribution of Predictions')\n",
    "# plot the distribution of predictions for only nodes with label 1\n",
    "plt.hist(torch.cat([F.sigmoid(batch)[batch2.y == 1] for batch2, batch in zip(val_loader, preds)]).squeeze().cpu().numpy(), density=True, bins=np.linspace(0, 0.1, 50), alpha=0.5, label=\"Michel electrons\")\n",
    "plt.legend()\n",
    "plt.grid()\n",
    "plt.xlim(0, 0.1)"
   ]
  },
  {
   "cell_type": "code",
   "execution_count": 12,
   "id": "5fd36a0c",
   "metadata": {},
   "outputs": [],
   "source": [
    "preds_flat = torch.cat([F.sigmoid(batch) for batch in preds])"
   ]
  },
  {
   "cell_type": "code",
   "execution_count": 13,
   "id": "a8f70809",
   "metadata": {},
   "outputs": [],
   "source": [
    "# Plot the F1 score as a function of the cut value\n",
    "cut_values = np.linspace(0, 0.1, 10)\n",
    "f1_scores = []\n",
    "for cut in cut_values:\n",
    "    preds_cut = preds_flat > cut\n",
    "    f1 = f1_score(\n",
    "        torch.cat([batch.y for batch in val_loader]).cpu().numpy(),\n",
    "        preds_cut.squeeze().cpu().numpy(),\n",
    "        # average='macro'\n",
    "    )\n",
    "    f1_scores.append(f1)"
   ]
  },
  {
   "cell_type": "code",
   "execution_count": 14,
   "id": "ca39ed63",
   "metadata": {},
   "outputs": [
    {
     "data": {
      "image/png": "[encoded data removed]",
      "text/plain": [
       "<Figure size 640x480 with 1 Axes>"
      ]
     },
     "metadata": {},
     "output_type": "display_data"
    }
   ],
   "source": [
    "fig, ax = plt.subplots(layout=\"constrained\")\n",
    "ax.plot(cut_values, f1_scores, label='F1 Score')\n",
    "ax.set_xlabel('Cut Value')\n",
    "ax.set_ylabel('F1 Score')\n",
    "ax.grid()"
   ]
  },
  {
   "cell_type": "code",
   "execution_count": 5,
   "id": "62aadb41",
   "metadata": {},
   "outputs": [],
   "source": [
    "val_loader = DataLoader(val_data, batch_size=32, shuffle=False)\n",
    "val_loader2 = DataLoader(val_data, batch_size=64, shuffle=False)"
   ]
  },
  {
   "cell_type": "code",
   "execution_count": 9,
   "id": "4a07310d",
   "metadata": {},
   "outputs": [
    {
     "data": {
      "text/plain": [
       "<All keys matched successfully>"
      ]
     },
     "execution_count": 9,
     "metadata": {},
     "output_type": "execute_result"
    }
   ],
   "source": [
    "model = GNN(input_dim=1, hidden_dim=4, output_dim=1)\n",
    "model.load_state_dict(torch.load(\"model_epoch_5.pt\"))"
   ]
  },
  {
   "cell_type": "code",
   "execution_count": 10,
   "id": "64cbf0f4",
   "metadata": {},
   "outputs": [],
   "source": [
    "# Load the model and calculate the predictions for the two loaders\n",
    "model.eval()\n",
    "with torch.no_grad():\n",
    "    preds1 = []\n",
    "    for batch in val_loader:\n",
    "        out = model(batch)\n",
    "        preds1.append(F.sigmoid(out))\n",
    "\n",
    "    preds2 = []\n",
    "    for batch in val_loader2:\n",
    "        out = model(batch)\n",
    "        preds2.append(F.sigmoid(out))"
   ]
  },
  {
   "cell_type": "code",
   "execution_count": 12,
   "id": "a57769eb",
   "metadata": {},
   "outputs": [
    {
     "name": "stdout",
     "output_type": "stream",
     "text": [
      "Predictions from both loaders are close enough.\n"
     ]
    }
   ],
   "source": [
    "torch.testing.assert_close(torch.cat(preds1), torch.cat(preds2), rtol=1e-5, atol=1e-5)\n",
    "print(\"Predictions from both loaders are close enough.\")"
   ]
  }
 ],
 "metadata": {
  "kernelspec": {
   "display_name": "inss",
   "language": "python",
   "name": "python3"
  },
  "language_info": {
   "codemirror_mode": {
    "name": "ipython",
    "version": 3
   },
   "file_extension": ".py",
   "mimetype": "text/x-python",
   "name": "python",
   "nbconvert_exporter": "python",
   "pygments_lexer": "ipython3",
   "version": "3.13.5"
  }
 },
 "nbformat": 4,
 "nbformat_minor": 5
}
